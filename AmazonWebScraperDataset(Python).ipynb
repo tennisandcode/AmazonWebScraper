{
 "cells": [
  {
   "cell_type": "code",
   "execution_count": 32,
   "id": "e46e3d2b",
   "metadata": {},
   "outputs": [],
   "source": [
    "# import libraries\n",
    "\n",
    "from bs4 import BeautifulSoup\n",
    "import requests\n",
    "import time\n",
    "import datetime\n",
    "\n",
    "import smtplib\n"
   ]
  },
  {
   "cell_type": "code",
   "execution_count": 62,
   "id": "3070d62f",
   "metadata": {},
   "outputs": [
    {
     "name": "stdout",
     "output_type": "stream",
     "text": [
      "\n",
      "              Oversize Premium Acrylic Calendar for Wall | Ultra-Thick Clear Dry & Erase Board | Large 28\"x20\" | Home Office Monthly Glass Family Planner Guard Mate Plexiglass Whiteboard GUARDMATE\n",
      "             \n",
      "\n",
      "               227 ratings\n",
      "              \n"
     ]
    }
   ],
   "source": [
    "# Connect to Website and pull in data\n",
    "\n",
    "URL = 'https://www.amazon.com/Calendar-Oversize-Ultra-Thick-Reusable-Whiteboard/dp/B0BRX6SN47/ref=sr_1_28?crid=2B756LT422MAE&keywords=acrylic+calendar+for+wall&qid=1704367185&sprefix=acrylic+calendar+for+wal%2Caps%2C300&sr=8-28&ufe=app_do%3Aamzn1.fos.006c50ae-5d4c-4777-9bc0-4513d670b6bc'\n",
    "\n",
    "headers = {\"User-Agent\": \"Mozilla/5.0 (Windows NT 10.0; Win64; x64) AppleWebKit/537.36 (KHTML, like Gecko) Chrome/78.0.3904.108 Safari/537.36\", \"Accept-Encoding\":\"gzip, deflate\", \"Accept\":\"text/html,application/xhtml+xml,application/xml;q=0.9,*/*;q=0.8\", \"DNT\":\"1\",\"Connection\":\"close\", \"Upgrade-Insecure-Requests\":\"1\"}\n",
    "\n",
    "page = requests.get(URL, headers=headers)\n",
    "\n",
    "soup1 = BeautifulSoup(page.content, \"html.parser\")\n",
    "\n",
    "soup2 = BeautifulSoup(soup1.prettify(), \"html.parser\")\n",
    "\n",
    "title = soup2.find(id='productTitle').get_text()\n",
    "\n",
    "review = soup2.find(id='acrCustomerReviewText').get_text()\n",
    "\n",
    "# If someone wonders how to scrap the price because theres no id use, \n",
    "# Price = soup2.find(\"span\", {class:\"a-price\"}).find(\"span\").text.strip()\n",
    "# The strip at the end is for removing blank space\n",
    "\n",
    "\n",
    "print(title)\n",
    "print(review)\n"
   ]
  },
  {
   "cell_type": "code",
   "execution_count": 65,
   "id": "2354e560",
   "metadata": {},
   "outputs": [
    {
     "name": "stdout",
     "output_type": "stream",
     "text": [
      "Oversize Premium Acrylic Calendar for Wall |\n",
      "227\n"
     ]
    },
    {
     "data": {
      "text/plain": [
       "str"
      ]
     },
     "execution_count": 65,
     "metadata": {},
     "output_type": "execute_result"
    }
   ],
   "source": [
    "# choose the exact text i want to strip\n",
    "review = review.strip()[0:3]\n",
    "title = title.strip()[0:44]\n",
    "\n",
    "print(title)\n",
    "print(review)\n",
    "type(title)"
   ]
  },
  {
   "cell_type": "code",
   "execution_count": 64,
   "id": "f828256e",
   "metadata": {},
   "outputs": [
    {
     "name": "stdout",
     "output_type": "stream",
     "text": [
      "2024-01-05\n"
     ]
    }
   ],
   "source": [
    "import datetime\n",
    "\n",
    "today = datetime.date.today()\n",
    "print(today)"
   ]
  },
  {
   "cell_type": "code",
   "execution_count": 68,
   "id": "386a15f7",
   "metadata": {},
   "outputs": [],
   "source": [
    "# Create CSV and write headers and data into the file\n",
    "\n",
    "import csv \n",
    "\n",
    "header = ['Title', 'Review', 'Date']\n",
    "data = [title, review, today]\n",
    "\n",
    "with open('AmazonWebScraperDataset.csv', 'w', newline='', encoding='UTF8') as f:\n",
    "    writer = csv.writer(f)\n",
    "    writer.writerow(header)\n",
    "    writer.writerow(data)\n"
   ]
  },
  {
   "cell_type": "code",
   "execution_count": 69,
   "id": "672b0c56",
   "metadata": {},
   "outputs": [
    {
     "name": "stdout",
     "output_type": "stream",
     "text": [
      "                                          Title  Review        Date\n",
      "0  Oversize Premium Acrylic Calendar for Wall |     227  2024-01-05\n"
     ]
    }
   ],
   "source": [
    "import pandas as pd\n",
    "\n",
    "df = pd.read_csv('/Users/bshare/AmazonWebScraperDataset.csv')\n",
    "\n",
    "print(df)\n"
   ]
  },
  {
   "cell_type": "code",
   "execution_count": 41,
   "id": "d42929c8",
   "metadata": {},
   "outputs": [],
   "source": [
    "# Now apending data to csv\n",
    "\n",
    "with open('AmazonWebScraperDataset.csv', 'a+', newline='', encoding='UTF8') as f:\n",
    "    writer = csv.writer(f)\n",
    "    writer.writerow(data)\n",
    "    "
   ]
  },
  {
   "cell_type": "code",
   "execution_count": 71,
   "id": "64eac511",
   "metadata": {},
   "outputs": [],
   "source": [
    "def check_review():\n",
    "    URL = 'https://www.amazon.com/Funny-Data-Systems-Business-Analyst/dp/B07FNW9FGJ/ref=sr_1_3?dchild=1&keywords=data%2Banalyst%2Btshirt&qid=1626655184&sr=8-3&customId=B0752XJYNL&th=1'\n",
    "\n",
    "    headers = {\"User-Agent\": \"Mozilla/5.0 (Windows NT 10.0; Win64; x64) AppleWebKit/537.36 (KHTML, like Gecko) Chrome/78.0.3904.108 Safari/537.36\", \"Accept-Encoding\":\"gzip, deflate\", \"Accept\":\"text/html,application/xhtml+xml,application/xml;q=0.9,*/*;q=0.8\", \"DNT\":\"1\",\"Connection\":\"close\", \"Upgrade-Insecure-Requests\":\"1\"}\n",
    "\n",
    "    page = requests.get(URL, headers=headers)\n",
    "\n",
    "    soup1 = BeautifulSoup(page.content, \"html.parser\")\n",
    "\n",
    "    soup2 = BeautifulSoup(soup1.prettify(), \"html.parser\")\n",
    "\n",
    "    title = soup2.find(id='productTitle').get_text()\n",
    "\n",
    "    review = soup2.find(id='acrCustomerReviewText').get_text()\n",
    "    \n",
    "    review = review.strip()[0:2]\n",
    "    \n",
    "    title = title.strip()[0:80]\n",
    "    \n",
    "    import datetime\n",
    "    today = datetime.date.today()\n",
    "    \n",
    "    import csv \n",
    "    header = ['Title', 'Review', 'Date']\n",
    "    data = [title, review, today]\n",
    "    \n",
    "    with open('AmazonWebScraperDataset.csv', 'a+', newline='', encoding='UTF8') as f:\n",
    "        writer = csv.writer(f)\n",
    "        writer.writerow(data)\n",
    "        \n",
    "    if(review > 227):\n",
    "        send_email()\n",
    "    "
   ]
  },
  {
   "cell_type": "markdown",
   "id": "b9442403",
   "metadata": {},
   "source": [
    "while(True):\n",
    "    check_review()\n",
    "    time.sleep(86400)"
   ]
  },
  {
   "cell_type": "code",
   "execution_count": 45,
   "id": "b1c4410d",
   "metadata": {},
   "outputs": [
    {
     "name": "stdout",
     "output_type": "stream",
     "text": [
      "                                               Title  Review        Date\n",
      "0  Funny Got Data MIS Data Systems Business Analy...      19  2024-01-04\n",
      "1  Funny Got Data MIS Data Systems Business Analy...      19  2024-01-04\n",
      "2  Funny Got Data MIS Data Systems Business Analy...      19  2024-01-04\n",
      "3  Funny Got Data MIS Data Systems Business Analy...      19  2024-01-04\n",
      "4  Funny Got Data MIS Data Systems Business Analy...      19  2024-01-05\n",
      "5  Funny Got Data MIS Data Systems Business Analy...      19  2024-01-05\n",
      "6  Funny Got Data MIS Data Systems Business Analy...      19  2024-01-05\n",
      "7  Funny Got Data MIS Data Systems Business Analy...      19  2024-01-05\n",
      "8  Funny Got Data MIS Data Systems Business Analy...      19  2024-01-05\n",
      "9  Funny Got Data MIS Data Systems Business Analy...      19  2024-01-05\n"
     ]
    }
   ],
   "source": [
    "import pandas as pd\n",
    "\n",
    "df = pd.read_csv('/Users/bshare/AmazonWebScraperDataset.csv')\n",
    "\n",
    "print(df)"
   ]
  },
  {
   "cell_type": "code",
   "execution_count": null,
   "id": "d55cfc6a",
   "metadata": {},
   "outputs": [],
   "source": [
    "def send_mail():\n",
    "    server = smtplib.SMTP_SSL('smtp.gmail.com',465)\n",
    "    server.ehlo()\n",
    "    #server.starttls()\n",
    "    server.ehlo()\n",
    "    server.login('benjaminchung9@gmail.com','Newzealand6')\n",
    "    \n",
    "    subject = \"Above 25 review\"\n",
    "    body = \"Alert, above 25 review\"\n",
    "   \n",
    "    msg = f\"Subject: {subject}\\n\\n{body}\"\n",
    "    \n",
    "    server.sendmail(\n",
    "        'benjaminchung9@gmail.com',\n",
    "        msg\n",
    "     \n",
    "    )"
   ]
  },
  {
   "cell_type": "code",
   "execution_count": null,
   "id": "395cf51f",
   "metadata": {},
   "outputs": [],
   "source": []
  }
 ],
 "metadata": {
  "kernelspec": {
   "display_name": "Python 3 (ipykernel)",
   "language": "python",
   "name": "python3"
  },
  "language_info": {
   "codemirror_mode": {
    "name": "ipython",
    "version": 3
   },
   "file_extension": ".py",
   "mimetype": "text/x-python",
   "name": "python",
   "nbconvert_exporter": "python",
   "pygments_lexer": "ipython3",
   "version": "3.11.5"
  }
 },
 "nbformat": 4,
 "nbformat_minor": 5
}
